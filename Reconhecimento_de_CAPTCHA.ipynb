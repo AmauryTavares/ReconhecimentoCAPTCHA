{
  "nbformat": 4,
  "nbformat_minor": 0,
  "metadata": {
    "colab": {
      "name": "Reconhecimento_de_CAPTCHA.ipynb",
      "version": "0.3.2",
      "provenance": [],
      "collapsed_sections": [],
      "toc_visible": true
    },
    "kernelspec": {
      "name": "python3",
      "display_name": "Python 3"
    },
    "accelerator": "GPU"
  },
  "cells": [
    {
      "cell_type": "code",
      "metadata": {
        "id": "qNFm43ZXA7kI",
        "colab_type": "code",
        "outputId": "4950a27b-3ddd-49dc-9f59-bf8563f4e1e0",
        "colab": {
          "base_uri": "https://localhost:8080/",
          "height": 34
        }
      },
      "source": [
        "!git clone https://github.com/AmauryTavares/ReconhecimentoCAPTCHA.git"
      ],
      "execution_count": 2,
      "outputs": [
        {
          "output_type": "stream",
          "text": [
            "fatal: destination path 'ReconhecimentoCAPTCHA' already exists and is not an empty directory.\n"
          ],
          "name": "stdout"
        }
      ]
    },
    {
      "cell_type": "markdown",
      "metadata": {
        "id": "wziql3WY62o0",
        "colab_type": "text"
      },
      "source": [
        "## Reconhecimento de CAPTCHA\n"
      ]
    },
    {
      "cell_type": "markdown",
      "metadata": {
        "id": "krh48rlw9XHe",
        "colab_type": "text"
      },
      "source": [
        "### Pacotes necessários para o projeto"
      ]
    },
    {
      "cell_type": "code",
      "metadata": {
        "id": "UuFQj__oDeWg",
        "colab_type": "code",
        "colab": {}
      },
      "source": [
        "import cv2 as cv\n",
        "import numpy as np\n",
        "import os\n",
        "import keras\n",
        "import csv\n",
        "from zipfile import ZipFile\n",
        "from PIL import Image\n",
        "from IPython.display import Image\n",
        "\n",
        "from keras.optimizers import SGD\n",
        "from sklearn.preprocessing import LabelBinarizer\n",
        "from sklearn.metrics import classification_report\n",
        "from keras import backend as K\n",
        "import matplotlib.pyplot as plt\n",
        "import numpy as np\n",
        "\n",
        "from keras.models import Sequential\n",
        "from keras.layers.convolutional import Conv2D\n",
        "from keras.layers.convolutional import MaxPooling2D\n",
        "from keras.layers.core import Activation\n",
        "from keras.layers.core import Flatten\n",
        "from keras.layers.core import Dense\n",
        "from keras.layers.core import Dropout\n",
        "from keras.layers import LSTM\n",
        "from keras.utils import np_utils\n",
        "from keras.callbacks import ModelCheckpoint\n",
        "from keras.layers.normalization import BatchNormalization"
      ],
      "execution_count": 0,
      "outputs": []
    },
    {
      "cell_type": "markdown",
      "metadata": {
        "id": "mAZ_DkI7fj7Y",
        "colab_type": "text"
      },
      "source": [
        "### Funções para pré-processamento da imagem"
      ]
    },
    {
      "cell_type": "code",
      "metadata": {
        "id": "NNslSnlQDfov",
        "colab_type": "code",
        "colab": {}
      },
      "source": [
        "def getSegments(sorted_contours, binary_openning):\n",
        "    rois = []\n",
        "    img_segmented = cv.cvtColor(binary_openning, cv.COLOR_GRAY2BGR)\n",
        "    for i, ctr in enumerate(sorted_contours):\n",
        "        # obtem pontos inicial, altura e largura do retangulo\n",
        "        x, y, w, h = cv.boundingRect(ctr)\n",
        "\n",
        "        # obtem parte segmentada\n",
        "        roi = binary_openning[y:y + h, x:x + w]\n",
        "        rois.append(roi)\n",
        "\n",
        "        # mostra parte segmentada\n",
        "        cv.rectangle(img_segmented, (x, y), (x + w, y + h), (0, 255, 0), 2)\n",
        "\n",
        "    return rois, img_segmented\n",
        "  \n",
        "def averageROI(rois):\n",
        "    average = 0;\n",
        "    for roi in rois:\n",
        "        average += roi.shape[1]\n",
        "\n",
        "    average = (average/len(rois))\n",
        "    return average\n",
        "  \n",
        "#remove outliers de segmentos de ruidos menores\n",
        "def removeMinimumOutliersROI(rois):\n",
        "    newRois = []\n",
        "    for roi in rois:\n",
        "        if roi.shape[0] * roi.shape[1] > 100:\n",
        "            newRois.append(roi)\n",
        "\n",
        "    return newRois\n",
        "\n",
        "\n",
        "#segmenta os rois maiores\n",
        "def separateSegment(rois):\n",
        "    newRois = []\n",
        "    average = np.int32(averageROI(rois) * 1.4)\n",
        "\n",
        "    for roi in rois:\n",
        "        sizeBigger = np.int32(roi.shape[1]/average)\n",
        "\n",
        "        if sizeBigger == 0:\n",
        "            newRois.append(roi)\n",
        "        else:\n",
        "            sizeBigger += 1\n",
        "            width = np.int32(roi.shape[1]/sizeBigger)\n",
        "            height = roi.shape[0]\n",
        "            y = 0\n",
        "            x = 0\n",
        "            for i in range(sizeBigger):\n",
        "                newRois.append(roi[y:height, x:width * (i + 1)])\n",
        "                x += width\n",
        "\n",
        "    return newRois"
      ],
      "execution_count": 0,
      "outputs": []
    },
    {
      "cell_type": "code",
      "metadata": {
        "id": "O4ve9KU9EGNX",
        "colab_type": "code",
        "colab": {}
      },
      "source": [
        "def preProcessing(path):\n",
        "    # Mascara para usada na operacao morfologica\n",
        "    kernel = np.ones((3, 3), np.int8)\n",
        "\n",
        "    #carreg imagem original\n",
        "    src = cv.imread(path, cv.IMREAD_GRAYSCALE)\n",
        "\n",
        "    # converte imagem para tom de cinza\n",
        "    src_gray = cv.imread(path, cv.IMREAD_GRAYSCALE)\n",
        "\n",
        "    # binarizacao da imagem\n",
        "    ret, binary = cv.threshold(src_gray, 0, 255, cv.THRESH_BINARY + cv.THRESH_OTSU)\n",
        "\n",
        "    # operacao morfologica de fechamento\n",
        "    binary_openning = cv.morphologyEx(binary, cv.MORPH_CLOSE, kernel)\n",
        "\n",
        "    # imagem negativa\n",
        "    binary_negative = cv.bitwise_not(binary_openning)\n",
        "\n",
        "    # obtem os contornos do captcha\n",
        "    _, contours, _ = cv.findContours(binary_negative, cv.RETR_EXTERNAL, cv.CHAIN_APPROX_SIMPLE)\n",
        "\n",
        "    # ordena os contornos no eixo x\n",
        "    sorted_contours = sorted(contours, key=lambda ctr: cv.boundingRect(ctr)[0])\n",
        "\n",
        "    rois, img_segmented = getSegments(sorted_contours, binary_openning)\n",
        "    if len(rois) > 1:\n",
        "        rois = removeMinimumOutliersROI(rois)\n",
        "        rois = separateSegment(rois)\n",
        "\n",
        "    # modifica o tamanho para 28x28\n",
        "    for i, roi in enumerate(rois):\n",
        "      rois[i] = cv.resize(roi, (28,28), interpolation=cv.INTER_AREA)\n",
        "        \n",
        "    return rois, src"
      ],
      "execution_count": 0,
      "outputs": []
    },
    {
      "cell_type": "markdown",
      "metadata": {
        "id": "qYO2Eone87MN",
        "colab_type": "text"
      },
      "source": [
        "### Dividir base de dados em conjuntos de treinamento, teste e validação."
      ]
    },
    {
      "cell_type": "code",
      "metadata": {
        "id": "Mg9ihtNj8pDo",
        "colab_type": "code",
        "colab": {}
      },
      "source": [
        "# Carregar base de dados\n",
        "#display(Image('2a4f.png'))\n",
        "def loadDatabase():\n",
        "  files = []\n",
        "  filenames = []\n",
        "  root = './ReconhecimentoCAPTCHA/images/'\n",
        "  # carregar nomes dos captchas\n",
        "  with open('./ReconhecimentoCAPTCHA/filenames.csv', 'r') as readFile:\n",
        "    reader = csv.reader(readFile)\n",
        "    filenames = list(reader)[0]\n",
        "\n",
        "  for filename in filenames:\n",
        "    files.append(root + filename)\n",
        "   \n",
        "  # divide base de dados\n",
        "  training_data, validation_data, test_data = files[:35000], files[35000:42500], files[42500:]\n",
        "  training_label, validation_label, test_label = filenames[:35000], filenames[35000:42500], filenames[42500:]\n",
        "    \n",
        "  #print(len(training_data), 'exemplos de treino')\n",
        "  #print(len(validation_data), 'exemplos de validação')\n",
        "  #print(len(test_data), 'exemplos de teste')\n",
        "    \n",
        "  return (training_data, validation_data, test_data, training_label, validation_label, test_label)"
      ],
      "execution_count": 0,
      "outputs": []
    },
    {
      "cell_type": "markdown",
      "metadata": {
        "id": "xHCxzkvagbdo",
        "colab_type": "text"
      },
      "source": [
        "### Funções para manipulação da base de dados"
      ]
    },
    {
      "cell_type": "code",
      "metadata": {
        "id": "WeikbgB68886",
        "colab_type": "code",
        "colab": {}
      },
      "source": [
        "# Faz o mapeamento de caracter para one hot\n",
        "def mapAlphanumeticToOnehot(caracter):\n",
        "  alphanumeric = ['0', '1', '2', '3', '4', '5', '6', '7', '8', '9',\n",
        "                  'a', 'b', 'c', 'd', 'e', 'f', 'g', 'h', 'i', 'j',\n",
        "                  'k', 'l', 'm', 'n', 'o', 'p', 'q', 'r', 's', 't',\n",
        "                  'u', 'v', 'x', 'y', 'z', 'w']\n",
        "  \n",
        "  for x, _ in enumerate(alphanumeric):\n",
        "    if caracter == alphanumeric[x]:\n",
        "      alphanumeric[x] = 1\n",
        "    else:\n",
        "      alphanumeric[x] = 0\n",
        "  \n",
        "  return alphanumeric\n",
        "\n",
        "def convertCaracterToOnehot(label):\n",
        "  newLabel = np.zeros((len(label), 36))\n",
        "  for i, x in enumerate(label):\n",
        "    newLabel[i, :] = mapAlphanumeticToOnehot(x)\n",
        "  return newLabel\n",
        "\n",
        "def expandDatabase(x_train, y_train, flatten=False):\n",
        "  if flatten:\n",
        "    rois_x_train = np.zeros((4*(len(x_train)), 784))\n",
        "  else:\n",
        "    rois_x_train = np.zeros((4*(len(x_train)), 28, 28, 1))\n",
        "        \n",
        "  rois_y_train = []\n",
        "  i = 0\n",
        "  \n",
        "  for x, y in zip(x_train, y_train):\n",
        "    rois, _ = preProcessing(x)\n",
        "\n",
        "    for roi in rois:\n",
        "      roi = roi.astype('float32')/255\n",
        "      \n",
        "      if flatten:\n",
        "        rois_x_train[i, :,] = roi.reshape((784))\n",
        "      else:\n",
        "        rois_x_train[i, :, :, :] = roi.reshape((28,28,1))\n",
        "      \n",
        "      i += 1\n",
        "\n",
        "    filename = y.split('.')[0]\n",
        "    \n",
        "    for x in filename:\n",
        "      rois_y_train.append(x)\n",
        "      \n",
        "  print('Pre-processamento concluído!')\n",
        "    \n",
        "  return rois_x_train, rois_y_train"
      ],
      "execution_count": 0,
      "outputs": []
    },
    {
      "cell_type": "markdown",
      "metadata": {
        "id": "gfEq5XMP92vb",
        "colab_type": "text"
      },
      "source": [
        "### Modelo LeNet"
      ]
    },
    {
      "cell_type": "code",
      "metadata": {
        "id": "U27CsX1OkewH",
        "colab_type": "code",
        "colab": {}
      },
      "source": [
        "def build_LeNet(width, height, depth, classes):\n",
        "  model = Sequential()\n",
        "  inputShape = (height, width, depth)\n",
        "\n",
        "  model.add(Conv2D(20, (5, 5), padding=\"same\", input_shape=inputShape, activation=\"relu\"))\n",
        "  model.add(MaxPooling2D(pool_size=(2, 2), strides=(2, 2)))\n",
        "\n",
        "  model.add(Conv2D(50, (5, 5), padding=\"same\", activation=\"relu\"))\n",
        "  model.add(MaxPooling2D(pool_size=(2, 2), strides=(2, 2)))\n",
        "\n",
        "  model.add(Flatten())\n",
        "  model.add(Dense(500,  activation=\"relu\"))\n",
        "\n",
        "  model.add(Dense(classes))\n",
        "  model.add(Activation(\"softmax\"))\n",
        "  \n",
        "  model.summary()\n",
        "  \n",
        "  return model"
      ],
      "execution_count": 0,
      "outputs": []
    },
    {
      "cell_type": "markdown",
      "metadata": {
        "id": "rbNA7trm-UFq",
        "colab_type": "text"
      },
      "source": [
        "### Modelo MiniVGG"
      ]
    },
    {
      "cell_type": "code",
      "metadata": {
        "id": "PU54qS0nD7QS",
        "colab_type": "code",
        "colab": {}
      },
      "source": [
        "def build_MiniVGG(width, height, depth, classes):\n",
        "  model = Sequential()\n",
        "  inputShape = (height, width, depth)\n",
        "  \n",
        "  model.add(Conv2D(32, (3, 3), padding=\"same\", input_shape=inputShape, activation=\"relu\"))\n",
        "  model.add(Conv2D(32, (3, 3), padding=\"same\", activation=\"relu\"))\n",
        "  model.add(MaxPooling2D(pool_size=(2, 2)))\n",
        "  model.add(Dropout(0.25))\n",
        "  \n",
        "\n",
        "  model.add(Conv2D(64, (3, 3), padding=\"same\", activation=\"relu\"))\n",
        "  model.add(Conv2D(64, (3, 3), padding=\"same\", activation=\"relu\"))\n",
        "  model.add(MaxPooling2D(pool_size=(2, 2)))\n",
        "  model.add(Dropout(0.25))\n",
        "  \n",
        "  model.add(Flatten())\n",
        "  model.add(Dense(512, activation=\"relu\"))\n",
        "  model.add(Dropout(0.5))\n",
        "  \n",
        "  model.add(Dense(classes))\n",
        "  model.add(Activation(\"softmax\"))\n",
        "  \n",
        "  model.summary()\n",
        "  \n",
        "  return model"
      ],
      "execution_count": 0,
      "outputs": []
    },
    {
      "cell_type": "markdown",
      "metadata": {
        "id": "sw6HUkR40g4-",
        "colab_type": "text"
      },
      "source": [
        "### Modelo VGG16"
      ]
    },
    {
      "cell_type": "code",
      "metadata": {
        "id": "82jJMIqQ0kLu",
        "colab_type": "code",
        "colab": {}
      },
      "source": [
        "def build_VGG16(width, height, depth, classes):\n",
        "  model = Sequential()\n",
        "  inputShape = (height, width, depth)\n",
        "  \n",
        "  model.add(Conv2D(64, (3, 3), padding=\"same\", activation=\"relu\", input_shape=inputShape))\n",
        "  model.add(Conv2D(64, (3, 3), padding=\"same\", activation=\"relu\"))\n",
        "  model.add(MaxPooling2D(pool_size=(2,2)))\n",
        "  \n",
        "  model.add(Conv2D(128, (3, 3), padding=\"same\", activation=\"relu\"))\n",
        "  model.add(Conv2D(128, (3, 3), padding=\"same\", activation=\"relu\"))\n",
        "  model.add(MaxPooling2D(pool_size=(2,2)))\n",
        "  \n",
        "  model.add(Conv2D(256, (3, 3), padding=\"same\", activation=\"relu\"))\n",
        "  model.add(Conv2D(256, (3, 3), padding=\"same\", activation=\"relu\"))\n",
        "  model.add(Conv2D(256, (3, 3), padding=\"same\", activation=\"relu\"))\n",
        "  model.add(MaxPooling2D(pool_size=(2,2)))\n",
        "  \n",
        "  model.add(Conv2D(512, (3, 3), padding=\"same\", activation=\"relu\"))\n",
        "  model.add(Conv2D(512, (3, 3), padding=\"same\", activation=\"relu\"))\n",
        "  model.add(Conv2D(512, (3, 3), padding=\"same\", activation=\"relu\"))\n",
        "  model.add(MaxPooling2D(pool_size=(2,2)))\n",
        "  \n",
        "  model.add(Conv2D(256, (3, 3), padding=\"same\", activation=\"relu\"))\n",
        "  model.add(Conv2D(256, (3, 3), padding=\"same\", activation=\"relu\"))\n",
        "  model.add(Conv2D(256, (3, 3), padding=\"same\", activation=\"relu\"))\n",
        "  model.add(MaxPooling2D(pool_size=(1,1)))\n",
        "  \n",
        "  model.add(Flatten())\n",
        "  model.add(Dense(4096, activation=\"relu\"))\n",
        "  model.add(Dense(4096, activation=\"relu\"))\n",
        "  model.add(Dense(classes, activation=\"softmax\"))\n",
        "  \n",
        "  model.summary()\n",
        "  \n",
        "  return model"
      ],
      "execution_count": 0,
      "outputs": []
    },
    {
      "cell_type": "markdown",
      "metadata": {
        "id": "fn-dWxm_0nbm",
        "colab_type": "text"
      },
      "source": [
        "### Modelo AlexNet"
      ]
    },
    {
      "cell_type": "code",
      "metadata": {
        "id": "b6h78CDc0sN2",
        "colab_type": "code",
        "colab": {}
      },
      "source": [
        "def build_AlexNet(width, height, depth, classes):\n",
        "  model = Sequential()\n",
        "  inputShape = (height, width, depth)\n",
        "  \n",
        "  model.add(Conv2D(64, (3, 3), padding=\"same\", activation=\"relu\", input_shape=inputShape))\n",
        "  model.add(MaxPooling2D(pool_size=(2,2), strides=(2,2)))\n",
        "  \n",
        "  model.add(Conv2D(128, (3, 3), padding=\"same\", activation=\"relu\", strides=(1,1)))\n",
        "  model.add(MaxPooling2D(pool_size=(2,2), strides=(2,2)))\n",
        "  \n",
        "  model.add(Conv2D(256, (3, 3), padding=\"same\", activation=\"relu\", strides=(1,1)))\n",
        "  model.add(Conv2D(256, (3, 3), padding=\"same\", activation=\"relu\", strides=(1,1)))\n",
        "  model.add(Conv2D(256, (3, 3), padding=\"same\", activation=\"relu\", strides=(1,1)))\n",
        "  model.add(MaxPooling2D(pool_size=(2,2), strides=(2,2)))\n",
        "  \n",
        "  model.add(Flatten())\n",
        "  model.add(Dense(4096, activation=\"relu\"))\n",
        "  model.add(Dropout(0.4))\n",
        "  \n",
        "  model.add(Dense(4096, activation=\"relu\"))\n",
        "  model.add(Dropout(0.4))\n",
        "  \n",
        "  model.add(Dense(1000, activation=\"relu\"))\n",
        "  model.add(Dropout(0.4))\n",
        "  \n",
        "  model.add(Dense(classes, activation=\"softmax\"))\n",
        "  \n",
        "  model.summary()\n",
        "  \n",
        "  return model"
      ],
      "execution_count": 0,
      "outputs": []
    },
    {
      "cell_type": "markdown",
      "metadata": {
        "id": "UI4M9QkY4xlI",
        "colab_type": "text"
      },
      "source": [
        "### Modelo MLP (4 Camadas relu)"
      ]
    },
    {
      "cell_type": "code",
      "metadata": {
        "id": "FoShTlrV45lr",
        "colab_type": "code",
        "colab": {}
      },
      "source": [
        "def build_MLP4relu(inputShape, classes):\n",
        "  model = Sequential()\n",
        "  \n",
        "  model.add(Dense(512, activation='relu', input_shape=(inputShape,)))\n",
        "  model.add(Dropout(0.4))\n",
        "  model.add(Dense(512, activation='relu'))\n",
        "  model.add(Dropout(0.4))\n",
        "  model.add(Dense(classes, activation='softmax'))\n",
        "  \n",
        "  model.summary()\n",
        "  \n",
        "  return model"
      ],
      "execution_count": 0,
      "outputs": []
    },
    {
      "cell_type": "markdown",
      "metadata": {
        "id": "ynbrrlcPNqzv",
        "colab_type": "text"
      },
      "source": [
        "### Modelo MLP (4 Camadas Tanh)"
      ]
    },
    {
      "cell_type": "code",
      "metadata": {
        "id": "MYtinSdfNvng",
        "colab_type": "code",
        "colab": {}
      },
      "source": [
        "def build_MLP4tanh(inputShape, classes):\n",
        "  model = Sequential()\n",
        "  \n",
        "  model.add(Dense(512, activation='tanh', input_shape=(inputShape,)))\n",
        "  model.add(Dropout(0.4))\n",
        "  model.add(Dense(512, activation='tanh'))\n",
        "  model.add(Dropout(0.4))\n",
        "  model.add(Dense(classes, activation='softmax'))\n",
        "  \n",
        "  model.summary()\n",
        "  \n",
        "  return model"
      ],
      "execution_count": 0,
      "outputs": []
    },
    {
      "cell_type": "markdown",
      "metadata": {
        "id": "GLPg-NidN19F",
        "colab_type": "text"
      },
      "source": [
        "### Modelo MLP (7 Camadas relu)"
      ]
    },
    {
      "cell_type": "code",
      "metadata": {
        "id": "j-UyYrtpN2bi",
        "colab_type": "code",
        "colab": {}
      },
      "source": [
        "def build_MLP7relu(inputShape, classes):\n",
        "  model = Sequential()\n",
        "  \n",
        "  model.add(Dense(512, activation='relu', input_shape=(inputShape,)))\n",
        "  model.add(Dense(256, activation='relu'))\n",
        "  model.add(Dense(128, activation='relu'))\n",
        "  model.add(Dense(64, activation='relu'))\n",
        "  model.add(Dropout(0.4))\n",
        "  model.add(Dense(64, activation='relu'))\n",
        "  model.add(Dropout(0.4))\n",
        "  model.add(Dense(classes, activation='softmax'))\n",
        "  \n",
        "  model.summary()\n",
        "  \n",
        "  return model"
      ],
      "execution_count": 0,
      "outputs": []
    },
    {
      "cell_type": "markdown",
      "metadata": {
        "id": "Cg9XxMViO9bv",
        "colab_type": "text"
      },
      "source": [
        "### Modelo MLP (7 Camadas tanh)"
      ]
    },
    {
      "cell_type": "code",
      "metadata": {
        "id": "CRemNTOZPAR4",
        "colab_type": "code",
        "colab": {}
      },
      "source": [
        "def build_MLP7tanh(inputShape, classes):\n",
        "  model = Sequential()\n",
        "  \n",
        "  model.add(Dense(512, activation='tanh', input_shape=(inputShape,)))\n",
        "  model.add(Dense(256, activation='tanh'))\n",
        "  model.add(Dense(128, activation='tanh'))\n",
        "  model.add(Dense(64, activation='tanh'))\n",
        "  model.add(Dropout(0.4))\n",
        "  model.add(Dense(64, activation='tanh'))\n",
        "  model.add(Dropout(0.4))\n",
        "  model.add(Dense(classes, activation='softmax'))\n",
        "  \n",
        "  model.summary()\n",
        "  \n",
        "  return model"
      ],
      "execution_count": 0,
      "outputs": []
    },
    {
      "cell_type": "markdown",
      "metadata": {
        "id": "J9C2tpWs_oF4",
        "colab_type": "text"
      },
      "source": [
        "### Treino do modelo"
      ]
    },
    {
      "cell_type": "code",
      "metadata": {
        "id": "qMNki4Ou_rFd",
        "colab_type": "code",
        "colab": {}
      },
      "source": [
        "def trainModel(model, flatten=False):\n",
        "  (x_train, x_valid, _, y_train, y_valid, _) = loadDatabase()\n",
        "\n",
        "  x_train, y_train = expandDatabase(x_train, y_train, flatten)\n",
        "  x_valid, y_valid = expandDatabase(x_valid, y_valid, flatten)\n",
        "  y_train = convertCaracterToOnehot(y_train)\n",
        "  y_valid = convertCaracterToOnehot(y_valid)\n",
        "\n",
        "  hist = model.fit(x_train, y_train, batch_size=128, epochs=30,\n",
        "            validation_data=(x_valid, y_valid), verbose=2, shuffle=True)\n",
        "    \n",
        "  return hist"
      ],
      "execution_count": 0,
      "outputs": []
    },
    {
      "cell_type": "markdown",
      "metadata": {
        "id": "oGZZwhU2A08d",
        "colab_type": "text"
      },
      "source": [
        "### Calculando a acurácia do modelo"
      ]
    },
    {
      "cell_type": "code",
      "metadata": {
        "id": "pOu79m9dA-5D",
        "colab_type": "code",
        "colab": {}
      },
      "source": [
        "def accuracyModel(model, flatten=False):\n",
        "  (_, _, x_test, _, _, y_test) = loadDatabase()\n",
        "  \n",
        "  x_test, y_test = expandDatabase(x_test, y_test, flatten)\n",
        "  y_test = convertCaracterToOnehot(y_test)\n",
        "\n",
        "  score = model.evaluate(x_test, y_test, verbose=0)\n",
        "  print('\\nTaxa de acerto:', score[1])"
      ],
      "execution_count": 0,
      "outputs": []
    },
    {
      "cell_type": "markdown",
      "metadata": {
        "id": "fF9iJa2Sh2QS",
        "colab_type": "text"
      },
      "source": [
        "### Calculando acurácia de CAPTCHA do modelo"
      ]
    },
    {
      "cell_type": "code",
      "metadata": {
        "id": "Ui3dC_mIh7wv",
        "colab_type": "code",
        "colab": {}
      },
      "source": [
        "def accuracyCAPTCHA(model, flatten=False):\n",
        "  (_, _, x_test, _, _, y_test) = loadDatabase()\n",
        "  length_test = len(x_test)\n",
        "  x_test, y_test = expandDatabase(x_test, y_test, flatten)\n",
        "  y_test = convertCaracterToOnehot(y_test)\n",
        "  \n",
        "  predictions = model.predict(x_test, batch_size=4)\n",
        "  result = predictions.argmax(axis=1)\n",
        "  result_test = y_test.argmax(axis=1)\n",
        "\n",
        "  totalHit = 0\n",
        "  onlyOneMiss = 0\n",
        "\n",
        "  for i in range(length_test):\n",
        "    hit = 0\n",
        "    for x in range(i*4, (i+1)*4):\n",
        "      if (result[x] == result_test[x]):\n",
        "        hit += 1\n",
        "\n",
        "    if hit == 4:\n",
        "      totalHit += 1\n",
        "      onlyOneMiss += 1\n",
        "    elif hit == 3:\n",
        "      onlyOneMiss += 1\n",
        "\n",
        "  print('Taxa de acerto (4 caracteres):', totalHit / length_test)\n",
        "  print('Taxa de acerto (3 caracteres):', onlyOneMiss / length_test)"
      ],
      "execution_count": 0,
      "outputs": []
    },
    {
      "cell_type": "markdown",
      "metadata": {
        "id": "yb9V707SDIFc",
        "colab_type": "text"
      },
      "source": [
        "### Informações sobre o treinamento do modelo"
      ]
    },
    {
      "cell_type": "code",
      "metadata": {
        "id": "DkumElTUH622",
        "colab_type": "code",
        "colab": {}
      },
      "source": [
        "# # evaluate the network\n",
        "# print(\"[INFO] evaluating network...\")\n",
        "\n",
        "# # get predictions on the test set\n",
        "# predictions = model.predict(x_test, batch_size=128)\n",
        "\n",
        "# # define text labels (source: https://www.cs.toronto.edu/~kriz/cifar.html)\n",
        "# cifar10_labels = ['airplane', 'automobile', 'bird', 'cat', 'deer', 'dog', 'frog', 'horse', 'ship', 'truck']\n",
        "\n",
        "\n",
        "# print(classification_report(y_test.argmax(axis=1),\n",
        "# predictions.argmax(axis=1),\n",
        "# target_names=cifar10_labels))\n",
        "\n",
        "# plot the training loss and accuracy\n",
        "def infoTrain(hist):\n",
        "  plt.style.use(\"ggplot\")\n",
        "  plt.figure()\n",
        "  plt.plot(np.arange(0, 30), hist.history[\"loss\"], label=\"train_loss\" )\n",
        "  plt.plot(np.arange(0, 30), hist.history[\"val_loss\"], label=\"val_loss\")\n",
        "  plt.plot(np.arange(0, 30), hist.history[\"acc\" ], label=\"train_acc\" )\n",
        "  plt.plot(np.arange(0, 30), hist.history[\"val_acc\"], label=\"val_acc\")\n",
        "  plt.title(\"Training Loss and Accuracy\")\n",
        "  plt.xlabel(\"Epoch #\")\n",
        "  plt.ylabel(\"Loss/Accuracy\")\n",
        "  plt.legend()\n",
        "  plt.show()"
      ],
      "execution_count": 0,
      "outputs": []
    },
    {
      "cell_type": "markdown",
      "metadata": {
        "id": "_ako4TaV_LZ9",
        "colab_type": "text"
      },
      "source": [
        "### Configuração e executando o modelo Lenet"
      ]
    },
    {
      "cell_type": "code",
      "metadata": {
        "id": "UhXIPFVQ_ON-",
        "colab_type": "code",
        "colab": {}
      },
      "source": [
        "opt = SGD(lr=0.01)\n",
        "model = build_LeNet(width=28, height=28, depth=1, classes=36)\n",
        "model.compile(loss='categorical_crossentropy', optimizer=opt, \n",
        "                  metrics=['accuracy'])\n",
        "\n",
        "hist = trainModel(model)\n",
        "accuracyModel(model)\n",
        "accuracyCAPTCHA(model)\n",
        "infoTrain(hist)"
      ],
      "execution_count": 0,
      "outputs": []
    },
    {
      "cell_type": "markdown",
      "metadata": {
        "id": "hraimCkik3Jt",
        "colab_type": "text"
      },
      "source": [
        "### Configuração e executando o modelo MiniVGG"
      ]
    },
    {
      "cell_type": "code",
      "metadata": {
        "id": "XGlZIzt8k55W",
        "colab_type": "code",
        "colab": {}
      },
      "source": [
        "opt = SGD(lr=0.01)\n",
        "model = build_MiniVGG(width=28, height=28, depth=1, classes=36)\n",
        "model.compile(loss='categorical_crossentropy', optimizer=opt, \n",
        "                  metrics=['accuracy'])\n",
        "\n",
        "hist = trainModel(model)\n",
        "accuracyModel(model)\n",
        "accuracyCAPTCHA(model)\n",
        "infoTrain(hist)"
      ],
      "execution_count": 0,
      "outputs": []
    },
    {
      "cell_type": "markdown",
      "metadata": {
        "id": "FasRb-xT0z28",
        "colab_type": "text"
      },
      "source": [
        "### Configuração e executando modelo VGG16"
      ]
    },
    {
      "cell_type": "code",
      "metadata": {
        "id": "8MSMSrlQ1b3c",
        "colab_type": "code",
        "colab": {}
      },
      "source": [
        "#opt = SGD(lr=0.01)\n",
        "#model = build_VGG16(width=28, height=28, depth=1, classes=36)\n",
        "#model.compile(loss='categorical_crossentropy', optimizer=opt, \n",
        "#                  metrics=['accuracy'])\n",
        "\n",
        "#hist = trainModel(model)\n",
        "#accuracyModel(model)\n",
        "#accuracyCAPTCHA(model)\n",
        "#infoTrain(hist)"
      ],
      "execution_count": 0,
      "outputs": []
    },
    {
      "cell_type": "markdown",
      "metadata": {
        "id": "-b3sEpqY1eBF",
        "colab_type": "text"
      },
      "source": [
        "### Configuração e executando modelo AlexNet"
      ]
    },
    {
      "cell_type": "code",
      "metadata": {
        "id": "UVy6FPs91l2F",
        "colab_type": "code",
        "colab": {}
      },
      "source": [
        "opt = SGD(lr=0.01)\n",
        "model = build_AlexNet(width=28, height=28, depth=1, classes=36)\n",
        "model.compile(loss='categorical_crossentropy', optimizer=opt, \n",
        "                  metrics=['accuracy'])\n",
        "\n",
        "hist = trainModel(model)\n",
        "accuracyModel(model)\n",
        "accuracyCAPTCHA(model)\n",
        "infoTrain(hist)"
      ],
      "execution_count": 0,
      "outputs": []
    },
    {
      "cell_type": "markdown",
      "metadata": {
        "id": "ky7Za7ry9KzM",
        "colab_type": "text"
      },
      "source": [
        "### Configuração e executando MLP 4 Camadas relu"
      ]
    },
    {
      "cell_type": "code",
      "metadata": {
        "id": "gYSKoVSJ9NhW",
        "colab_type": "code",
        "colab": {}
      },
      "source": [
        "opt = SGD(lr=0.01)\n",
        "model = build_MLP4relu(inputShape=784, classes=36)\n",
        "model.compile(loss='categorical_crossentropy', optimizer=opt, \n",
        "                  metrics=['accuracy'])\n",
        "\n",
        "hist = trainModel(model, flatten=True)\n",
        "accuracyModel(model, flatten=True)\n",
        "accuracyCAPTCHA(model, flatten=True)\n",
        "infoTrain(hist)"
      ],
      "execution_count": 0,
      "outputs": []
    },
    {
      "cell_type": "markdown",
      "metadata": {
        "id": "EaRqzZgwTsln",
        "colab_type": "text"
      },
      "source": [
        "### Configuração e executando MLP 4 Camadas tanh"
      ]
    },
    {
      "cell_type": "code",
      "metadata": {
        "id": "rfGrbSe9Ujt_",
        "colab_type": "code",
        "colab": {}
      },
      "source": [
        "opt = SGD(lr=0.01)\n",
        "model = build_MLP4tanh(inputShape=784, classes=36)\n",
        "model.compile(loss='categorical_crossentropy', optimizer=opt, \n",
        "                  metrics=['accuracy'])\n",
        "\n",
        "hist = trainModel(model, flatten=True)\n",
        "accuracyModel(model, flatten=True)\n",
        "accuracyCAPTCHA(model, flatten=True)\n",
        "infoTrain(hist)"
      ],
      "execution_count": 0,
      "outputs": []
    },
    {
      "cell_type": "markdown",
      "metadata": {
        "id": "W2y2nSQjTuua",
        "colab_type": "text"
      },
      "source": [
        "### Configuração e executando MLP 7 Camadas relu"
      ]
    },
    {
      "cell_type": "code",
      "metadata": {
        "id": "gtnpyRM4Unv1",
        "colab_type": "code",
        "colab": {}
      },
      "source": [
        "opt = SGD(lr=0.01)\n",
        "model = build_MLP7relu(inputShape=784, classes=36)\n",
        "model.compile(loss='categorical_crossentropy', optimizer=opt, \n",
        "                  metrics=['accuracy'])\n",
        "\n",
        "hist = trainModel(model, flatten=True)\n",
        "accuracyModel(model, flatten=True)\n",
        "accuracyCAPTCHA(model, flatten=True)\n",
        "infoTrain(hist)"
      ],
      "execution_count": 0,
      "outputs": []
    },
    {
      "cell_type": "markdown",
      "metadata": {
        "id": "6v8EIUoxTxRO",
        "colab_type": "text"
      },
      "source": [
        "### Configuração e executando MLP 7 Camadas tanh"
      ]
    },
    {
      "cell_type": "code",
      "metadata": {
        "id": "tW8FjKYGUpD4",
        "colab_type": "code",
        "colab": {}
      },
      "source": [
        "opt = SGD(lr=0.01)\n",
        "model = build_MLP7tanh(inputShape=784, classes=36)\n",
        "model.compile(loss='categorical_crossentropy', optimizer=opt, \n",
        "                  metrics=['accuracy'])\n",
        "\n",
        "hist = trainModel(model, flatten=True)\n",
        "accuracyModel(model, flatten=True)\n",
        "accuracyCAPTCHA(model, flatten=True)\n",
        "infoTrain(hist)"
      ],
      "execution_count": 0,
      "outputs": []
    }
  ]
}