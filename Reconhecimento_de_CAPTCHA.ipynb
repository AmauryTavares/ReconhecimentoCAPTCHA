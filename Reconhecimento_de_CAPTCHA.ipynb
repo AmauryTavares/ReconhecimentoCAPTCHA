{
  "nbformat": 4,
  "nbformat_minor": 0,
  "metadata": {
    "colab": {
      "name": "Reconhecimento-de-CAPTCHA",
      "version": "0.3.2",
      "provenance": [],
      "collapsed_sections": [],
      "toc_visible": true
    },
    "kernelspec": {
      "name": "python3",
      "display_name": "Python 3"
    },
    "accelerator": "GPU"
  },
  "cells": [
    {
      "cell_type": "code",
      "metadata": {
        "id": "qNFm43ZXA7kI",
        "colab_type": "code",
        "outputId": "d16b90ca-dae9-4a3e-cde8-5c6b69f8a070",
        "colab": {
          "base_uri": "https://localhost:8080/",
          "height": 34
        }
      },
      "source": [
        "!git clone https://github.com/AmauryTavares/ReconhecimentoCAPTCHA.git"
      ],
      "execution_count": 224,
      "outputs": [
        {
          "output_type": "stream",
          "text": [
            "fatal: destination path 'ReconhecimentoCAPTCHA' already exists and is not an empty directory.\n"
          ],
          "name": "stdout"
        }
      ]
    },
    {
      "cell_type": "markdown",
      "metadata": {
        "id": "wziql3WY62o0",
        "colab_type": "text"
      },
      "source": [
        "## Reconhecimento de CAPTCHA\n"
      ]
    },
    {
      "cell_type": "markdown",
      "metadata": {
        "id": "krh48rlw9XHe",
        "colab_type": "text"
      },
      "source": [
        "###  Comece importando os pacotes necessários para o projeto"
      ]
    },
    {
      "cell_type": "code",
      "metadata": {
        "id": "UuFQj__oDeWg",
        "colab_type": "code",
        "colab": {}
      },
      "source": [
        "import cv2 as cv\n",
        "import numpy as np\n",
        "import os\n",
        "import keras\n",
        "import csv\n",
        "from zipfile import ZipFile\n",
        "from PIL import Image\n",
        "from IPython.display import Image\n",
        "\n",
        "from keras.optimizers import SGD\n",
        "from sklearn.preprocessing import LabelBinarizer\n",
        "from sklearn.metrics import classification_report\n",
        "from keras import backend as K\n",
        "import matplotlib.pyplot as plt\n",
        "import numpy as np\n",
        "\n",
        "from keras.models import Sequential\n",
        "from keras.layers.convolutional import Conv2D\n",
        "from keras.layers.convolutional import MaxPooling2D\n",
        "from keras.layers.core import Activation\n",
        "from keras.layers.core import Flatten\n",
        "from keras.layers.core import Dense\n",
        "from keras.utils import np_utils\n",
        "from keras.callbacks import ModelCheckpoint   "
      ],
      "execution_count": 0,
      "outputs": []
    },
    {
      "cell_type": "code",
      "metadata": {
        "id": "NNslSnlQDfov",
        "colab_type": "code",
        "colab": {}
      },
      "source": [
        "def getSegments(sorted_contours, binary_openning):\n",
        "    rois = []\n",
        "    img_segmented = cv.cvtColor(binary_openning, cv.COLOR_GRAY2BGR)\n",
        "    for i, ctr in enumerate(sorted_contours):\n",
        "        # obtem pontos inicial, altura e largura do retangulo\n",
        "        x, y, w, h = cv.boundingRect(ctr)\n",
        "\n",
        "        # obtem parte segmentada\n",
        "        roi = binary_openning[y:y + h, x:x + w]\n",
        "        rois.append(roi)\n",
        "\n",
        "        # mostra parte segmentada\n",
        "        cv.rectangle(img_segmented, (x, y), (x + w, y + h), (0, 255, 0), 2)\n",
        "\n",
        "    return rois, img_segmented\n",
        "  \n",
        "def averageROI(rois):\n",
        "    average = 0;\n",
        "    for roi in rois:\n",
        "        average += roi.shape[1]\n",
        "\n",
        "    average = (average/len(rois)) * 1.2\n",
        "    return average\n",
        "  \n",
        "#remove outliers de segmentos de ruidos menores\n",
        "def removeMinimumOutliersROI(rois):\n",
        "    newRois = []\n",
        "    for roi in rois:\n",
        "        if roi.shape[0] * roi.shape[1] > 800:\n",
        "            newRois.append(roi)\n",
        "\n",
        "    return newRois\n",
        "\n",
        "#remove outliers de segmentos de ruidos maiores\n",
        "def removeAvarageOutliersROI(rois):\n",
        "    averagePixels = 0\n",
        "    newRois = []\n",
        "    for roi in rois:\n",
        "        averagePixels += roi.shape[0] * roi.shape[1]\n",
        "\n",
        "    averagePixels = (averagePixels/len(rois)) * 0.7\n",
        "\n",
        "    for roi in rois:\n",
        "        if roi.shape[0] * roi.shape[1] >= averagePixels:\n",
        "            newRois.append(roi)\n",
        "\n",
        "    return newRois\n",
        "\n",
        "#segmenta os rois maiores\n",
        "def separateSegment(rois):\n",
        "    newRois = []\n",
        "    average = np.int32(averageROI(rois))\n",
        "\n",
        "    for roi in rois:\n",
        "        sizeBigger = np.int32(roi.shape[1]/average)\n",
        "\n",
        "        if sizeBigger == 0:\n",
        "            newRois.append(roi)\n",
        "        else:\n",
        "            sizeBigger += 1\n",
        "            width = np.int32(roi.shape[1]/sizeBigger)\n",
        "            height = roi.shape[0]\n",
        "            y = 0\n",
        "            x = 0\n",
        "            for i in range(sizeBigger):\n",
        "                newRois.append(roi[y:height, x:width * (i + 1)])\n",
        "                x += width\n",
        "\n",
        "    return newRois"
      ],
      "execution_count": 0,
      "outputs": []
    },
    {
      "cell_type": "code",
      "metadata": {
        "id": "O4ve9KU9EGNX",
        "colab_type": "code",
        "colab": {}
      },
      "source": [
        "def preProcessing(path):\n",
        "    # Mascara para usada na operacao morfologica\n",
        "    kernel = np.ones((4, 4), np.int8)\n",
        "\n",
        "    #carreg imagem original\n",
        "    src = cv.imread(path, cv.IMREAD_GRAYSCALE)\n",
        "\n",
        "    # converte imagem para tom de cinza\n",
        "    src_gray = cv.imread(path, cv.IMREAD_GRAYSCALE)\n",
        "\n",
        "    # binarizacao da imagem\n",
        "    ret, binary = cv.threshold(src_gray, 0, 255, cv.THRESH_BINARY + cv.THRESH_OTSU)\n",
        "\n",
        "    # operacao morfologica de fechamento\n",
        "    binary_openning = cv.morphologyEx(binary, cv.MORPH_CLOSE, kernel)\n",
        "\n",
        "    # imagem negativa\n",
        "    binary_negative = cv.bitwise_not(binary_openning)\n",
        "\n",
        "    # obtem os contornos do captcha\n",
        "    _, contours, _ = cv.findContours(binary_negative, cv.RETR_EXTERNAL, cv.CHAIN_APPROX_SIMPLE)\n",
        "\n",
        "    # ordena os contornos no eixo x\n",
        "    sorted_contours = sorted(contours, key=lambda ctr: cv.boundingRect(ctr)[0])\n",
        "\n",
        "    rois, img_segmented = getSegments(sorted_contours, binary_openning)\n",
        "    if len(rois) > 1:\n",
        "        rois = removeMinimumOutliersROI(rois)\n",
        "        rois = separateSegment(rois)\n",
        "        rois = removeAvarageOutliersROI(rois)\n",
        "\n",
        "    # modifica o tamanho para 28x28\n",
        "    for i, roi in enumerate(rois):\n",
        "      rois[i] = cv.resize(roi, (28,28), interpolation=cv.INTER_AREA)\n",
        "        \n",
        "    return rois, src\n",
        "\n",
        "# def runDatabase(path):\n",
        "#     for _,_,files in os.walk(path):\n",
        "#         for filename in files:\n",
        "#             preProcessing(path + filename)\n",
        "\n",
        "# runDatabase('./images/')"
      ],
      "execution_count": 0,
      "outputs": []
    },
    {
      "cell_type": "markdown",
      "metadata": {
        "id": "qYO2Eone87MN",
        "colab_type": "text"
      },
      "source": [
        "### 4.  Dividir base de dados em conjuntos de treinamento, teste e validação."
      ]
    },
    {
      "cell_type": "code",
      "metadata": {
        "id": "Mg9ihtNj8pDo",
        "colab_type": "code",
        "colab": {}
      },
      "source": [
        "# Carregar base de dados\n",
        "#display(Image('2a4f.png'))\n",
        "def loadDatabase():\n",
        "  files = []\n",
        "  filenames = []\n",
        "  root = './ReconhecimentoCAPTCHA/images/'\n",
        "  # carregar nomes dos captchas\n",
        "  with open('filenames.csv', 'r') as readFile:\n",
        "    reader = csv.reader(readFile)\n",
        "    filenames = list(reader)[0]\n",
        "\n",
        "  for filename in filenames:\n",
        "    files.append(root + filename)\n",
        "   \n",
        "  # divide base de dados\n",
        "  training_data, validation_data, test_data = files[:6000], files[6000:10000], files[10000:]\n",
        "  training_label, validation_label, test_label = filenames[:6000], filenames[6000:10000], filenames[10000:]\n",
        "    \n",
        "  print(len(training_data), 'exemplos de treino')\n",
        "  print(len(validation_data), 'exemplos de validação')\n",
        "  print(len(test_data), 'exemplos de teste')\n",
        "    \n",
        "  return (training_data, validation_data, test_data, training_label, validation_label, test_label)"
      ],
      "execution_count": 0,
      "outputs": []
    },
    {
      "cell_type": "code",
      "metadata": {
        "id": "WeikbgB68886",
        "colab_type": "code",
        "colab": {}
      },
      "source": [
        "# Faz o mapeamento de caracter para one hot\n",
        "def mapAlphanumeticToOnehot(caracter):\n",
        "  alphanumeric = ['0', '1', '2', '3', '4', '5', '6', '7', '8', '9',\n",
        "                  'a', 'b', 'c', 'd', 'e', 'f', 'g', 'h', 'i', 'j',\n",
        "                  'k', 'l', 'm', 'n', 'o', 'p', 'q', 'r', 's', 't',\n",
        "                  'u', 'v', 'x', 'y', 'z', 'w']\n",
        "  \n",
        "  for x, _ in enumerate(alphanumeric):\n",
        "    if caracter == alphanumeric[x]:\n",
        "      alphanumeric[x] = 1\n",
        "    else:\n",
        "      alphanumeric[x] = 0\n",
        "  \n",
        "  return alphanumeric\n",
        "\n",
        "def convertToOnehot(label):\n",
        "  newLabel = np.zeros((len(label), 36))\n",
        "  for i, x in enumerate(label):\n",
        "    newLabel[i, :] = mapAlphanumeticToOnehot(x)\n",
        "  return newLabel\n",
        "\n",
        "def expandDatabase(x_train, y_train):\n",
        "  rois_x_train = np.zeros((4*(len(x_train)), 28, 28, 1))\n",
        "  rois_y_train = []\n",
        "  i = 0\n",
        "  \n",
        "  for x, y in zip(x_train, y_train):\n",
        "    rois, _ = preProcessing(x)\n",
        "\n",
        "    for roi in rois:\n",
        "      roi = roi.astype('float32')/255\n",
        "      rois_x_train[i, :, :, :] = roi.reshape((28,28,1))\n",
        "      i += 1\n",
        "\n",
        "    filename = y.split('.')[0]\n",
        "    \n",
        "    for x in filename:\n",
        "      rois_y_train.append(x)\n",
        "      \n",
        "  print('Pre-processamento concluído!')\n",
        "    \n",
        "  return rois_x_train, rois_y_train"
      ],
      "execution_count": 0,
      "outputs": []
    },
    {
      "cell_type": "markdown",
      "metadata": {
        "id": "gfEq5XMP92vb",
        "colab_type": "text"
      },
      "source": [
        "### 5. Construa o modelo Lenet"
      ]
    },
    {
      "cell_type": "code",
      "metadata": {
        "id": "U27CsX1OkewH",
        "colab_type": "code",
        "colab": {}
      },
      "source": [
        "def build_LeNet(width, height, classes):\n",
        "  # initialize the model\n",
        "  model = Sequential()\n",
        "  inputShape = (height, width)\n",
        "\n",
        "  # first set of CONV => RELU => POOL layers\n",
        "  model.add(Conv2D(20, (5, 5), padding=\"same\",\n",
        "    input_shape=inputShape))\n",
        "  model.add(Activation(\"relu\"))\n",
        "  model.add(MaxPooling2D(pool_size=(2, 2), strides=(2, 2)))\n",
        "\n",
        "  # second set of CONV => RELU => POOL layers\n",
        "  model.add(Conv2D(50, (5, 5), padding=\"same\"))\n",
        "  model.add(Activation(\"relu\"))\n",
        "  model.add(MaxPooling2D(pool_size=(2, 2), strides=(2, 2)))\n",
        "\n",
        "  # first (and only) set of FC => RELU layers\n",
        "  model.add(Flatten())\n",
        "  model.add(Dense(500))\n",
        "  model.add(Activation(\"relu\"))\n",
        "\n",
        "  # softmax classifier\n",
        "  model.add(Dense(classes))\n",
        "  model.add(Activation(\"softmax\"))\n",
        "  \n",
        "  model.summary()\n",
        "  \n",
        "  # return the constructed network architecture\n",
        "  return model"
      ],
      "execution_count": 0,
      "outputs": []
    },
    {
      "cell_type": "markdown",
      "metadata": {
        "id": "rbNA7trm-UFq",
        "colab_type": "text"
      },
      "source": [
        "### 6. Construa o modelo MiniVGG"
      ]
    },
    {
      "cell_type": "code",
      "metadata": {
        "id": "PU54qS0nD7QS",
        "colab_type": "code",
        "colab": {}
      },
      "source": [
        "from keras.layers.normalization import BatchNormalization\n",
        "from keras.layers.core import Dropout\n",
        "\n",
        "def build_MiniVGG(width, height, depth, classes):\n",
        "  # initialize the model\n",
        "  model = Sequential()\n",
        "  inputShape = (height, width, depth)# first CONV => RELU => CONV => RELU => POOL layer set\n",
        "  model.add(Conv2D(32, (3, 3), padding=\"same\",\n",
        "  input_shape=inputShape))\n",
        "  model.add(Activation(\"relu\"))\n",
        "  model.add(BatchNormalization(axis=2))\n",
        "  model.add(Conv2D(32, (3, 3), padding=\"same\"))\n",
        "  model.add(Activation(\"relu\"))\n",
        "  model.add(BatchNormalization(axis=2))\n",
        "  model.add(MaxPooling2D(pool_size=(2, 2)))\n",
        "  model.add(Dropout(0.25))\n",
        "  \n",
        "  # second CONV => RELU => CONV => RELU => POOL layer set\n",
        "  model.add(Conv2D(64, (3, 3), padding=\"same\"))\n",
        "  model.add(Activation(\"relu\"))\n",
        "  model.add(BatchNormalization(axis=2))\n",
        "  model.add(Conv2D(64, (3, 3), padding=\"same\"))\n",
        "  model.add(Activation(\"relu\"))\n",
        "  model.add(BatchNormalization(axis=2))\n",
        "  model.add(MaxPooling2D(pool_size=(2, 2)))\n",
        "  model.add(Dropout(0.25))\n",
        "  \n",
        "  # first (and only) set of FC => RELU layers\n",
        "  model.add(Flatten())\n",
        "  model.add(Dense(512))\n",
        "  model.add(Activation(\"relu\"))\n",
        "  model.add(BatchNormalization())\n",
        "  model.add(Dropout(0.5))\n",
        "  \n",
        "  # softmax classifier\n",
        "  model.add(Dense(classes))\n",
        "  model.add(Activation(\"softmax\"))\n",
        "  \n",
        "  model.summary()\n",
        "  \n",
        "  # return the constructed network architecture\n",
        "  return model\n",
        "  "
      ],
      "execution_count": 0,
      "outputs": []
    },
    {
      "cell_type": "markdown",
      "metadata": {
        "id": "_ako4TaV_LZ9",
        "colab_type": "text"
      },
      "source": [
        "### 7. Compile o modelo desejado (Lenet ou MiniVGG)"
      ]
    },
    {
      "cell_type": "code",
      "metadata": {
        "id": "UhXIPFVQ_ON-",
        "colab_type": "code",
        "outputId": "a7a9550f-c869-481a-c06c-60293b65a602",
        "colab": {
          "base_uri": "https://localhost:8080/",
          "height": 918
        }
      },
      "source": [
        "opt = SGD(lr=0.01)\n",
        "model = build_MiniVGG(width=28, height=28, depth=1, classes=36)\n",
        "model.compile(loss='categorical_crossentropy', optimizer=opt, \n",
        "                  metrics=['accuracy'])"
      ],
      "execution_count": 232,
      "outputs": [
        {
          "output_type": "stream",
          "text": [
            "_________________________________________________________________\n",
            "Layer (type)                 Output Shape              Param #   \n",
            "=================================================================\n",
            "conv2d_77 (Conv2D)           (None, 28, 28, 32)        320       \n",
            "_________________________________________________________________\n",
            "activation_115 (Activation)  (None, 28, 28, 32)        0         \n",
            "_________________________________________________________________\n",
            "batch_normalization_96 (Batc (None, 28, 28, 32)        112       \n",
            "_________________________________________________________________\n",
            "conv2d_78 (Conv2D)           (None, 28, 28, 32)        9248      \n",
            "_________________________________________________________________\n",
            "activation_116 (Activation)  (None, 28, 28, 32)        0         \n",
            "_________________________________________________________________\n",
            "batch_normalization_97 (Batc (None, 28, 28, 32)        112       \n",
            "_________________________________________________________________\n",
            "max_pooling2d_39 (MaxPooling (None, 14, 14, 32)        0         \n",
            "_________________________________________________________________\n",
            "dropout_58 (Dropout)         (None, 14, 14, 32)        0         \n",
            "_________________________________________________________________\n",
            "conv2d_79 (Conv2D)           (None, 14, 14, 64)        18496     \n",
            "_________________________________________________________________\n",
            "activation_117 (Activation)  (None, 14, 14, 64)        0         \n",
            "_________________________________________________________________\n",
            "batch_normalization_98 (Batc (None, 14, 14, 64)        56        \n",
            "_________________________________________________________________\n",
            "conv2d_80 (Conv2D)           (None, 14, 14, 64)        36928     \n",
            "_________________________________________________________________\n",
            "activation_118 (Activation)  (None, 14, 14, 64)        0         \n",
            "_________________________________________________________________\n",
            "batch_normalization_99 (Batc (None, 14, 14, 64)        56        \n",
            "_________________________________________________________________\n",
            "max_pooling2d_40 (MaxPooling (None, 7, 7, 64)          0         \n",
            "_________________________________________________________________\n",
            "dropout_59 (Dropout)         (None, 7, 7, 64)          0         \n",
            "_________________________________________________________________\n",
            "flatten_20 (Flatten)         (None, 3136)              0         \n",
            "_________________________________________________________________\n",
            "dense_39 (Dense)             (None, 512)               1606144   \n",
            "_________________________________________________________________\n",
            "activation_119 (Activation)  (None, 512)               0         \n",
            "_________________________________________________________________\n",
            "batch_normalization_100 (Bat (None, 512)               2048      \n",
            "_________________________________________________________________\n",
            "dropout_60 (Dropout)         (None, 512)               0         \n",
            "_________________________________________________________________\n",
            "dense_40 (Dense)             (None, 36)                18468     \n",
            "_________________________________________________________________\n",
            "activation_120 (Activation)  (None, 36)                0         \n",
            "=================================================================\n",
            "Total params: 1,691,988\n",
            "Trainable params: 1,690,796\n",
            "Non-trainable params: 1,192\n",
            "_________________________________________________________________\n"
          ],
          "name": "stdout"
        }
      ]
    },
    {
      "cell_type": "markdown",
      "metadata": {
        "id": "J9C2tpWs_oF4",
        "colab_type": "text"
      },
      "source": [
        "### 8. Treine o Modelo"
      ]
    },
    {
      "cell_type": "code",
      "metadata": {
        "id": "qMNki4Ou_rFd",
        "colab_type": "code",
        "outputId": "f0463e0e-e7fa-4cd5-d35a-0d0608ab9650",
        "colab": {
          "base_uri": "https://localhost:8080/",
          "height": 1479
        }
      },
      "source": [
        "# train the model\n",
        "checkpointer = ModelCheckpoint(filepath='model.weights.best.hdf5', verbose=1, \n",
        "                               save_best_only=True)\n",
        "\n",
        "(x_train, x_valid, _, y_train, y_valid, _) = loadDatabase()\n",
        "\n",
        "x_train, y_train = expandDatabase(x_train, y_train)\n",
        "x_valid, y_valid = expandDatabase(x_valid, y_valid)\n",
        "y_train = convertToOnehot(y_train)\n",
        "y_valid = convertToOnehot(y_valid)\n",
        "\n",
        "hist = model.fit(x_train, y_train, batch_size=128, epochs=20,\n",
        "          validation_data=(x_valid, y_valid), callbacks=[checkpointer], \n",
        "          verbose=2, shuffle=True)"
      ],
      "execution_count": 233,
      "outputs": [
        {
          "output_type": "stream",
          "text": [
            "6000 exemplos de treino\n",
            "4000 exemplos de validação\n",
            "5055 exemplos de teste\n",
            "Pre-processamento concluído!\n",
            "Pre-processamento concluído!\n",
            "Train on 24000 samples, validate on 16000 samples\n",
            "Epoch 1/20\n",
            " - 9s - loss: 0.9542 - acc: 0.7788 - val_loss: 0.3162 - val_acc: 0.9296\n",
            "\n",
            "Epoch 00001: val_loss improved from inf to 0.31623, saving model to model.weights.best.hdf5\n",
            "Epoch 2/20\n",
            " - 5s - loss: 0.4319 - acc: 0.9064 - val_loss: 0.2566 - val_acc: 0.9425\n",
            "\n",
            "Epoch 00002: val_loss improved from 0.31623 to 0.25663, saving model to model.weights.best.hdf5\n",
            "Epoch 3/20\n",
            " - 5s - loss: 0.3524 - acc: 0.9250 - val_loss: 0.2244 - val_acc: 0.9507\n",
            "\n",
            "Epoch 00003: val_loss improved from 0.25663 to 0.22443, saving model to model.weights.best.hdf5\n",
            "Epoch 4/20\n",
            " - 5s - loss: 0.3069 - acc: 0.9354 - val_loss: 0.2116 - val_acc: 0.9547\n",
            "\n",
            "Epoch 00004: val_loss improved from 0.22443 to 0.21159, saving model to model.weights.best.hdf5\n",
            "Epoch 5/20\n",
            " - 5s - loss: 0.2746 - acc: 0.9421 - val_loss: 0.2109 - val_acc: 0.9569\n",
            "\n",
            "Epoch 00005: val_loss improved from 0.21159 to 0.21086, saving model to model.weights.best.hdf5\n",
            "Epoch 6/20\n",
            " - 5s - loss: 0.2564 - acc: 0.9476 - val_loss: 0.1849 - val_acc: 0.9631\n",
            "\n",
            "Epoch 00006: val_loss improved from 0.21086 to 0.18490, saving model to model.weights.best.hdf5\n",
            "Epoch 7/20\n",
            " - 5s - loss: 0.2360 - acc: 0.9512 - val_loss: 0.1766 - val_acc: 0.9661\n",
            "\n",
            "Epoch 00007: val_loss improved from 0.18490 to 0.17662, saving model to model.weights.best.hdf5\n",
            "Epoch 8/20\n",
            " - 5s - loss: 0.2234 - acc: 0.9561 - val_loss: 0.1741 - val_acc: 0.9657\n",
            "\n",
            "Epoch 00008: val_loss improved from 0.17662 to 0.17406, saving model to model.weights.best.hdf5\n",
            "Epoch 9/20\n",
            " - 5s - loss: 0.2092 - acc: 0.9591 - val_loss: 0.1708 - val_acc: 0.9667\n",
            "\n",
            "Epoch 00009: val_loss improved from 0.17406 to 0.17080, saving model to model.weights.best.hdf5\n",
            "Epoch 10/20\n",
            " - 5s - loss: 0.2012 - acc: 0.9622 - val_loss: 0.1689 - val_acc: 0.9680\n",
            "\n",
            "Epoch 00010: val_loss improved from 0.17080 to 0.16885, saving model to model.weights.best.hdf5\n",
            "Epoch 11/20\n",
            " - 5s - loss: 0.1930 - acc: 0.9628 - val_loss: 0.1659 - val_acc: 0.9686\n",
            "\n",
            "Epoch 00011: val_loss improved from 0.16885 to 0.16594, saving model to model.weights.best.hdf5\n",
            "Epoch 12/20\n",
            " - 5s - loss: 0.1856 - acc: 0.9645 - val_loss: 0.1647 - val_acc: 0.9691\n",
            "\n",
            "Epoch 00012: val_loss improved from 0.16594 to 0.16471, saving model to model.weights.best.hdf5\n",
            "Epoch 13/20\n",
            " - 5s - loss: 0.1793 - acc: 0.9667 - val_loss: 0.1619 - val_acc: 0.9698\n",
            "\n",
            "Epoch 00013: val_loss improved from 0.16471 to 0.16195, saving model to model.weights.best.hdf5\n",
            "Epoch 14/20\n",
            " - 5s - loss: 0.1722 - acc: 0.9681 - val_loss: 0.1610 - val_acc: 0.9692\n",
            "\n",
            "Epoch 00014: val_loss improved from 0.16195 to 0.16103, saving model to model.weights.best.hdf5\n",
            "Epoch 15/20\n",
            " - 5s - loss: 0.1700 - acc: 0.9675 - val_loss: 0.1599 - val_acc: 0.9708\n",
            "\n",
            "Epoch 00015: val_loss improved from 0.16103 to 0.15987, saving model to model.weights.best.hdf5\n",
            "Epoch 16/20\n",
            " - 5s - loss: 0.1630 - acc: 0.9683 - val_loss: 0.1548 - val_acc: 0.9711\n",
            "\n",
            "Epoch 00016: val_loss improved from 0.15987 to 0.15483, saving model to model.weights.best.hdf5\n",
            "Epoch 17/20\n",
            " - 5s - loss: 0.1630 - acc: 0.9703 - val_loss: 0.1531 - val_acc: 0.9721\n",
            "\n",
            "Epoch 00017: val_loss improved from 0.15483 to 0.15314, saving model to model.weights.best.hdf5\n",
            "Epoch 18/20\n",
            " - 5s - loss: 0.1541 - acc: 0.9708 - val_loss: 0.1549 - val_acc: 0.9728\n",
            "\n",
            "Epoch 00018: val_loss did not improve from 0.15314\n",
            "Epoch 19/20\n",
            " - 5s - loss: 0.1527 - acc: 0.9710 - val_loss: 0.1519 - val_acc: 0.9726\n",
            "\n",
            "Epoch 00019: val_loss improved from 0.15314 to 0.15187, saving model to model.weights.best.hdf5\n",
            "Epoch 20/20\n",
            " - 5s - loss: 0.1499 - acc: 0.9713 - val_loss: 0.1503 - val_acc: 0.9728\n",
            "\n",
            "Epoch 00020: val_loss improved from 0.15187 to 0.15027, saving model to model.weights.best.hdf5\n"
          ],
          "name": "stdout"
        }
      ]
    },
    {
      "cell_type": "markdown",
      "metadata": {
        "id": "kVuD-3YRApuZ",
        "colab_type": "text"
      },
      "source": [
        "### 9. Carrege o modelo com a melhor acurácia no conjunto de validação"
      ]
    },
    {
      "cell_type": "code",
      "metadata": {
        "id": "2hRoZP7lAz4_",
        "colab_type": "code",
        "colab": {}
      },
      "source": [
        "# load the weights that yielded the best validation accuracy\n",
        "model.load_weights('model.weights.best.hdf5')"
      ],
      "execution_count": 0,
      "outputs": []
    },
    {
      "cell_type": "markdown",
      "metadata": {
        "id": "oGZZwhU2A08d",
        "colab_type": "text"
      },
      "source": [
        "### **10**. Calcule a acurácia no conjunto de teste"
      ]
    },
    {
      "cell_type": "code",
      "metadata": {
        "id": "pOu79m9dA-5D",
        "colab_type": "code",
        "outputId": "8ffe0a9b-548d-402e-ed29-38c824f2e050",
        "colab": {
          "base_uri": "https://localhost:8080/",
          "height": 119
        }
      },
      "source": [
        "# evaluate and print test accuracy\n",
        "(_, _, x_test, _, _, y_test) = loadDatabase()\n",
        "x_test, y_test = expandDatabase(x_test, y_test)\n",
        "y_test = convertToOnehot(y_test)\n",
        "\n",
        "score = model.evaluate(x_test, y_test, verbose=0)\n",
        "print('\\n', 'Taxa de acerto:', score[1])"
      ],
      "execution_count": 237,
      "outputs": [
        {
          "output_type": "stream",
          "text": [
            "6000 exemplos de treino\n",
            "4000 exemplos de validação\n",
            "5055 exemplos de teste\n",
            "Pre-processamento concluído!\n",
            "\n",
            " Taxa de acerto: 0.9578635014718883\n"
          ],
          "name": "stdout"
        }
      ]
    },
    {
      "cell_type": "markdown",
      "metadata": {
        "id": "yb9V707SDIFc",
        "colab_type": "text"
      },
      "source": [
        "### **11**. Informações sobre acurácia no treinamento"
      ]
    },
    {
      "cell_type": "code",
      "metadata": {
        "id": "DkumElTUH622",
        "colab_type": "code",
        "outputId": "5e1a8654-4622-4b4d-abcd-6c5e1da0fe15",
        "colab": {
          "base_uri": "https://localhost:8080/",
          "height": 299
        }
      },
      "source": [
        "# evaluate the network\n",
        "print(\"[INFO] evaluating network...\")\n",
        "\n",
        "# get predictions on the test set\n",
        "predictions = model.predict(x_test, batch_size=128)\n",
        "\n",
        "# define text labels (source: https://www.cs.toronto.edu/~kriz/cifar.html)\n",
        "cifar10_labels = ['airplane', 'automobile', 'bird', 'cat', 'deer', 'dog', 'frog', 'horse', 'ship', 'truck']\n",
        "\n",
        "\n",
        "print(classification_report(y_test.argmax(axis=1),\n",
        "predictions.argmax(axis=1),\n",
        "target_names=cifar10_labels))\n",
        "\n",
        "# plot the training loss and accuracy\n",
        "plt.style.use(\"ggplot\")\n",
        "plt.figure()\n",
        "plt.plot(np.arange(0, 20), hist.history[\"loss\"], label=\"train_loss\" )\n",
        "plt.plot(np.arange(0, 20), hist.history[\"val_loss\"], label=\"val_loss\")\n",
        "plt.plot(np.arange(0, 20), hist.history[\"acc\" ], label=\"train_acc\" )\n",
        "plt.plot(np.arange(0, 20), hist.history[\"val_acc\"], label=\"val_acc\")\n",
        "plt.title(\"Training Loss and Accuracy\")\n",
        "plt.xlabel(\"Epoch #\")\n",
        "plt.ylabel(\"Loss/Accuracy\")\n",
        "plt.legend()\n",
        "plt.show()"
      ],
      "execution_count": 240,
      "outputs": [
        {
          "output_type": "display_data",
          "data": {
            "image/png": "[encoded data removed]",
            "text/plain": [
              "<Figure size 432x288 with 1 Axes>"
            ]
          },
          "metadata": {
            "tags": []
          }
        }
      ]
    }
  ]
}