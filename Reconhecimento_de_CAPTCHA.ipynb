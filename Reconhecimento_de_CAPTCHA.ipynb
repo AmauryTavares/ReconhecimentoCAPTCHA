{
  "nbformat": 4,
  "nbformat_minor": 0,
  "metadata": {
    "colab": {
      "name": "Reconhecimento_de_CAPTCHA.ipynb",
      "version": "0.3.2",
      "provenance": [],
      "collapsed_sections": [],
      "toc_visible": true
    },
    "kernelspec": {
      "name": "python3",
      "display_name": "Python 3"
    },
    "accelerator": "GPU"
  },
  "cells": [
    {
      "cell_type": "code",
      "metadata": {
        "id": "qNFm43ZXA7kI",
        "colab_type": "code",
        "outputId": "b6838613-36b5-417c-aa45-ea3998e5cef5",
        "colab": {
          "base_uri": "https://localhost:8080/",
          "height": 34
        }
      },
      "source": [
        "!git clone https://github.com/AmauryTavares/ReconhecimentoCAPTCHA.git"
      ],
      "execution_count": 88,
      "outputs": [
        {
          "output_type": "stream",
          "text": [
            "fatal: destination path 'ReconhecimentoCAPTCHA' already exists and is not an empty directory.\n"
          ],
          "name": "stdout"
        }
      ]
    },
    {
      "cell_type": "markdown",
      "metadata": {
        "id": "wziql3WY62o0",
        "colab_type": "text"
      },
      "source": [
        "## Reconhecimento de CAPTCHA\n"
      ]
    },
    {
      "cell_type": "markdown",
      "metadata": {
        "id": "krh48rlw9XHe",
        "colab_type": "text"
      },
      "source": [
        "###  Comece importando os pacotes necessários para o projeto"
      ]
    },
    {
      "cell_type": "code",
      "metadata": {
        "id": "UuFQj__oDeWg",
        "colab_type": "code",
        "colab": {}
      },
      "source": [
        "import cv2 as cv\n",
        "import numpy as np\n",
        "import os\n",
        "import keras\n",
        "import csv\n",
        "from zipfile import ZipFile\n",
        "from PIL import Image\n",
        "from IPython.display import Image\n",
        "\n",
        "from keras.optimizers import SGD\n",
        "from sklearn.preprocessing import LabelBinarizer\n",
        "from sklearn.metrics import classification_report\n",
        "from keras import backend as K\n",
        "import matplotlib.pyplot as plt\n",
        "import numpy as np\n",
        "\n",
        "from keras.models import Sequential\n",
        "from keras.layers.convolutional import Conv2D\n",
        "from keras.layers.convolutional import MaxPooling2D\n",
        "from keras.layers.core import Activation\n",
        "from keras.layers.core import Flatten\n",
        "from keras.layers.core import Dense\n",
        "from keras.utils import np_utils\n",
        "from keras.callbacks import ModelCheckpoint   "
      ],
      "execution_count": 0,
      "outputs": []
    },
    {
      "cell_type": "code",
      "metadata": {
        "id": "NNslSnlQDfov",
        "colab_type": "code",
        "colab": {}
      },
      "source": [
        "def getSegments(sorted_contours, binary_openning):\n",
        "    rois = []\n",
        "    img_segmented = cv.cvtColor(binary_openning, cv.COLOR_GRAY2BGR)\n",
        "    for i, ctr in enumerate(sorted_contours):\n",
        "        # obtem pontos inicial, altura e largura do retangulo\n",
        "        x, y, w, h = cv.boundingRect(ctr)\n",
        "\n",
        "        # obtem parte segmentada\n",
        "        roi = binary_openning[y:y + h, x:x + w]\n",
        "        rois.append(roi)\n",
        "\n",
        "        # mostra parte segmentada\n",
        "        cv.rectangle(img_segmented, (x, y), (x + w, y + h), (0, 255, 0), 2)\n",
        "\n",
        "    return rois, img_segmented\n",
        "  \n",
        "def averageROI(rois):\n",
        "    average = 0;\n",
        "    for roi in rois:\n",
        "        average += roi.shape[1]\n",
        "\n",
        "    average = (average/len(rois)) * 1.2\n",
        "    return average\n",
        "  \n",
        "#remove outliers de segmentos de ruidos menores\n",
        "def removeMinimumOutliersROI(rois):\n",
        "    newRois = []\n",
        "    for roi in rois:\n",
        "        if roi.shape[0] * roi.shape[1] > 800:\n",
        "            newRois.append(roi)\n",
        "\n",
        "    return newRois\n",
        "\n",
        "#remove outliers de segmentos de ruidos maiores\n",
        "def removeAvarageOutliersROI(rois):\n",
        "    averagePixels = 0\n",
        "    newRois = []\n",
        "    for roi in rois:\n",
        "        averagePixels += roi.shape[0] * roi.shape[1]\n",
        "\n",
        "    averagePixels = (averagePixels/len(rois)) * 0.7\n",
        "\n",
        "    for roi in rois:\n",
        "        if roi.shape[0] * roi.shape[1] >= averagePixels:\n",
        "            newRois.append(roi)\n",
        "\n",
        "    return newRois\n",
        "\n",
        "#segmenta os rois maiores\n",
        "def separateSegment(rois):\n",
        "    newRois = []\n",
        "    average = np.int32(averageROI(rois))\n",
        "\n",
        "    for roi in rois:\n",
        "        sizeBigger = np.int32(roi.shape[1]/average)\n",
        "\n",
        "        if sizeBigger == 0:\n",
        "            newRois.append(roi)\n",
        "        else:\n",
        "            sizeBigger += 1\n",
        "            width = np.int32(roi.shape[1]/sizeBigger)\n",
        "            height = roi.shape[0]\n",
        "            y = 0\n",
        "            x = 0\n",
        "            for i in range(sizeBigger):\n",
        "                newRois.append(roi[y:height, x:width * (i + 1)])\n",
        "                x += width\n",
        "\n",
        "    return newRois"
      ],
      "execution_count": 0,
      "outputs": []
    },
    {
      "cell_type": "code",
      "metadata": {
        "id": "O4ve9KU9EGNX",
        "colab_type": "code",
        "colab": {}
      },
      "source": [
        "def preProcessing(path):\n",
        "    # Mascara para usada na operacao morfologica\n",
        "    kernel = np.ones((4, 4), np.int8)\n",
        "\n",
        "    #carreg imagem original\n",
        "    src = cv.imread(path, cv.IMREAD_GRAYSCALE)\n",
        "\n",
        "    # converte imagem para tom de cinza\n",
        "    src_gray = cv.imread(path, cv.IMREAD_GRAYSCALE)\n",
        "\n",
        "    # binarizacao da imagem\n",
        "    ret, binary = cv.threshold(src_gray, 0, 255, cv.THRESH_BINARY + cv.THRESH_OTSU)\n",
        "\n",
        "    # operacao morfologica de fechamento\n",
        "    binary_openning = cv.morphologyEx(binary, cv.MORPH_CLOSE, kernel)\n",
        "\n",
        "    # imagem negativa\n",
        "    binary_negative = cv.bitwise_not(binary_openning)\n",
        "\n",
        "    # obtem os contornos do captcha\n",
        "    _, contours, _ = cv.findContours(binary_negative, cv.RETR_EXTERNAL, cv.CHAIN_APPROX_SIMPLE)\n",
        "\n",
        "    # ordena os contornos no eixo x\n",
        "    sorted_contours = sorted(contours, key=lambda ctr: cv.boundingRect(ctr)[0])\n",
        "\n",
        "    rois, img_segmented = getSegments(sorted_contours, binary_openning)\n",
        "    if len(rois) > 1:\n",
        "        rois = removeMinimumOutliersROI(rois)\n",
        "        rois = separateSegment(rois)\n",
        "        rois = removeAvarageOutliersROI(rois)\n",
        "\n",
        "    # modifica o tamanho para 28x28\n",
        "    for i, roi in enumerate(rois):\n",
        "      rois[i] = cv.resize(roi, (28,28), interpolation=cv.INTER_AREA)\n",
        "        \n",
        "    return rois, src\n",
        "\n",
        "# def runDatabase(path):\n",
        "#     for _,_,files in os.walk(path):\n",
        "#         for filename in files:\n",
        "#             preProcessing(path + filename)\n",
        "\n",
        "# runDatabase('./images/')"
      ],
      "execution_count": 0,
      "outputs": []
    },
    {
      "cell_type": "markdown",
      "metadata": {
        "id": "qYO2Eone87MN",
        "colab_type": "text"
      },
      "source": [
        "### 4.  Dividir base de dados em conjuntos de treinamento, teste e validação."
      ]
    },
    {
      "cell_type": "code",
      "metadata": {
        "id": "Mg9ihtNj8pDo",
        "colab_type": "code",
        "colab": {}
      },
      "source": [
        "# Carregar base de dados\n",
        "#display(Image('2a4f.png'))\n",
        "def loadDatabase():\n",
        "  files = []\n",
        "  filenames = []\n",
        "  root = './ReconhecimentoCAPTCHA/images/'\n",
        "  # carregar nomes dos captchas\n",
        "  with open('./ReconhecimentoCAPTCHA/filenames.csv', 'r') as readFile:\n",
        "    reader = csv.reader(readFile)\n",
        "    filenames = list(reader)[0]\n",
        "\n",
        "  for filename in filenames:\n",
        "    files.append(root + filename)\n",
        "   \n",
        "  # divide base de dados\n",
        "  training_data, validation_data, test_data = files[:6000], files[6000:10000], files[10000:]\n",
        "  training_label, validation_label, test_label = filenames[:6000], filenames[6000:10000], filenames[10000:]\n",
        "    \n",
        "  print(len(training_data), 'exemplos de treino')\n",
        "  print(len(validation_data), 'exemplos de validação')\n",
        "  print(len(test_data), 'exemplos de teste')\n",
        "    \n",
        "  return (training_data, validation_data, test_data, training_label, validation_label, test_label)"
      ],
      "execution_count": 0,
      "outputs": []
    },
    {
      "cell_type": "code",
      "metadata": {
        "id": "WeikbgB68886",
        "colab_type": "code",
        "colab": {}
      },
      "source": [
        "# Faz o mapeamento de caracter para one hot\n",
        "def mapAlphanumeticToOnehot(caracter):\n",
        "  alphanumeric = ['0', '1', '2', '3', '4', '5', '6', '7', '8', '9',\n",
        "                  'a', 'b', 'c', 'd', 'e', 'f', 'g', 'h', 'i', 'j',\n",
        "                  'k', 'l', 'm', 'n', 'o', 'p', 'q', 'r', 's', 't',\n",
        "                  'u', 'v', 'x', 'y', 'z', 'w']\n",
        "  \n",
        "  for x, _ in enumerate(alphanumeric):\n",
        "    if caracter == alphanumeric[x]:\n",
        "      alphanumeric[x] = 1\n",
        "    else:\n",
        "      alphanumeric[x] = 0\n",
        "  \n",
        "  return alphanumeric\n",
        "\n",
        "def convertToOnehot(label):\n",
        "  newLabel = np.zeros((len(label), 36))\n",
        "  for i, x in enumerate(label):\n",
        "    newLabel[i, :] = mapAlphanumeticToOnehot(x)\n",
        "  return newLabel\n",
        "\n",
        "\n",
        "def expandDatabase(x_train, y_train):\n",
        "  rois_x_train = np.zeros((4*(len(x_train)), 28, 28, 1))\n",
        "  rois_y_train = []\n",
        "  i = 0\n",
        "  \n",
        "  for x, y in zip(x_train, y_train):\n",
        "    rois, _ = preProcessing(x)\n",
        "\n",
        "    for roi in rois:\n",
        "      roi = roi.astype('float32')/255\n",
        "      rois_x_train[i, :, :, :] = roi.reshape((28,28,1))\n",
        "      i += 1\n",
        "\n",
        "    filename = y.split('.')[0]\n",
        "    \n",
        "    for x in filename:\n",
        "      rois_y_train.append(x)\n",
        "      \n",
        "  print('Pre-processamento concluído!')\n",
        "    \n",
        "  return rois_x_train, rois_y_train"
      ],
      "execution_count": 0,
      "outputs": []
    },
    {
      "cell_type": "markdown",
      "metadata": {
        "id": "gfEq5XMP92vb",
        "colab_type": "text"
      },
      "source": [
        "### 5. Construa o modelo Lenet"
      ]
    },
    {
      "cell_type": "code",
      "metadata": {
        "id": "U27CsX1OkewH",
        "colab_type": "code",
        "colab": {}
      },
      "source": [
        "def build_LeNet(width, height, depth, classes):\n",
        "  # initialize the model\n",
        "  model = Sequential()\n",
        "  inputShape = (height, width, depth)\n",
        "\n",
        "  # first set of CONV => RELU => POOL layers\n",
        "  model.add(Conv2D(20, (5, 5), padding=\"same\",\n",
        "    input_shape=inputShape))\n",
        "  model.add(Activation(\"relu\"))\n",
        "  model.add(MaxPooling2D(pool_size=(2, 2), strides=(2, 2)))\n",
        "\n",
        "  # second set of CONV => RELU => POOL layers\n",
        "  model.add(Conv2D(50, (5, 5), padding=\"same\"))\n",
        "  model.add(Activation(\"relu\"))\n",
        "  model.add(MaxPooling2D(pool_size=(2, 2), strides=(2, 2)))\n",
        "\n",
        "  # first (and only) set of FC => RELU layers\n",
        "  model.add(Flatten())\n",
        "  model.add(Dense(500))\n",
        "  model.add(Activation(\"relu\"))\n",
        "\n",
        "  # softmax classifier\n",
        "  model.add(Dense(classes))\n",
        "  model.add(Activation(\"softmax\"))\n",
        "  \n",
        "  model.summary()\n",
        "  \n",
        "  # return the constructed network architecture\n",
        "  return model"
      ],
      "execution_count": 0,
      "outputs": []
    },
    {
      "cell_type": "markdown",
      "metadata": {
        "id": "rbNA7trm-UFq",
        "colab_type": "text"
      },
      "source": [
        "### 6. Construa o modelo MiniVGG"
      ]
    },
    {
      "cell_type": "code",
      "metadata": {
        "id": "PU54qS0nD7QS",
        "colab_type": "code",
        "colab": {}
      },
      "source": [
        "from keras.layers.normalization import BatchNormalization\n",
        "from keras.layers.core import Dropout\n",
        "\n",
        "def build_MiniVGG(width, height, depth, classes):\n",
        "  # initialize the model\n",
        "  model = Sequential()\n",
        "  inputShape = (height, width, depth)# first CONV => RELU => CONV => RELU => POOL layer set\n",
        "  model.add(Conv2D(32, (3, 3), padding=\"same\",\n",
        "  input_shape=inputShape))\n",
        "  model.add(Activation(\"relu\"))\n",
        "  model.add(BatchNormalization(axis=2))\n",
        "  model.add(Conv2D(32, (3, 3), padding=\"same\"))\n",
        "  model.add(Activation(\"relu\"))\n",
        "  model.add(BatchNormalization(axis=2))\n",
        "  model.add(MaxPooling2D(pool_size=(2, 2)))\n",
        "  model.add(Dropout(0.25))\n",
        "  \n",
        "  # second CONV => RELU => CONV => RELU => POOL layer set\n",
        "  model.add(Conv2D(64, (3, 3), padding=\"same\"))\n",
        "  model.add(Activation(\"relu\"))\n",
        "  model.add(BatchNormalization(axis=2))\n",
        "  model.add(Conv2D(64, (3, 3), padding=\"same\"))\n",
        "  model.add(Activation(\"relu\"))\n",
        "  model.add(BatchNormalization(axis=2))\n",
        "  model.add(MaxPooling2D(pool_size=(2, 2)))\n",
        "  model.add(Dropout(0.25))\n",
        "  \n",
        "  # first (and only) set of FC => RELU layers\n",
        "  model.add(Flatten())\n",
        "  model.add(Dense(512))\n",
        "  model.add(Activation(\"relu\"))\n",
        "  model.add(BatchNormalization())\n",
        "  model.add(Dropout(0.5))\n",
        "  \n",
        "  # softmax classifier\n",
        "  model.add(Dense(classes))\n",
        "  model.add(Activation(\"softmax\"))\n",
        "  \n",
        "  model.summary()\n",
        "  \n",
        "  # return the constructed network architecture\n",
        "  return model\n",
        "  "
      ],
      "execution_count": 0,
      "outputs": []
    },
    {
      "cell_type": "markdown",
      "metadata": {
        "id": "_ako4TaV_LZ9",
        "colab_type": "text"
      },
      "source": [
        "### 7. Compile o modelo desejado (Lenet ou MiniVGG)"
      ]
    },
    {
      "cell_type": "code",
      "metadata": {
        "id": "UhXIPFVQ_ON-",
        "colab_type": "code",
        "outputId": "4cde96b3-82ba-49f8-f2b4-2555fb825685",
        "colab": {
          "base_uri": "https://localhost:8080/",
          "height": 510
        }
      },
      "source": [
        "opt = SGD(lr=0.01)\n",
        "model = build_LeNet(width=28, height=28, depth=1, classes=36)\n",
        "model.compile(loss='categorical_crossentropy', optimizer=opt, \n",
        "                  metrics=['accuracy'])"
      ],
      "execution_count": 108,
      "outputs": [
        {
          "output_type": "stream",
          "text": [
            "_________________________________________________________________\n",
            "Layer (type)                 Output Shape              Param #   \n",
            "=================================================================\n",
            "conv2d_21 (Conv2D)           (None, 28, 28, 20)        520       \n",
            "_________________________________________________________________\n",
            "activation_31 (Activation)   (None, 28, 28, 20)        0         \n",
            "_________________________________________________________________\n",
            "max_pooling2d_11 (MaxPooling (None, 14, 14, 20)        0         \n",
            "_________________________________________________________________\n",
            "conv2d_22 (Conv2D)           (None, 14, 14, 50)        25050     \n",
            "_________________________________________________________________\n",
            "activation_32 (Activation)   (None, 14, 14, 50)        0         \n",
            "_________________________________________________________________\n",
            "max_pooling2d_12 (MaxPooling (None, 7, 7, 50)          0         \n",
            "_________________________________________________________________\n",
            "flatten_6 (Flatten)          (None, 2450)              0         \n",
            "_________________________________________________________________\n",
            "dense_11 (Dense)             (None, 500)               1225500   \n",
            "_________________________________________________________________\n",
            "activation_33 (Activation)   (None, 500)               0         \n",
            "_________________________________________________________________\n",
            "dense_12 (Dense)             (None, 36)                18036     \n",
            "_________________________________________________________________\n",
            "activation_34 (Activation)   (None, 36)                0         \n",
            "=================================================================\n",
            "Total params: 1,269,106\n",
            "Trainable params: 1,269,106\n",
            "Non-trainable params: 0\n",
            "_________________________________________________________________\n"
          ],
          "name": "stdout"
        }
      ]
    },
    {
      "cell_type": "markdown",
      "metadata": {
        "id": "J9C2tpWs_oF4",
        "colab_type": "text"
      },
      "source": [
        "### 8. Treine o Modelo"
      ]
    },
    {
      "cell_type": "code",
      "metadata": {
        "id": "qMNki4Ou_rFd",
        "colab_type": "code",
        "outputId": "255fc867-bc58-461b-ab9a-3ae3a4d3614d",
        "colab": {
          "base_uri": "https://localhost:8080/",
          "height": 1479
        }
      },
      "source": [
        "# train the model\n",
        "checkpointer = ModelCheckpoint(filepath='model.weights.best.hdf5', verbose=1, \n",
        "                               save_best_only=True)\n",
        "\n",
        "(x_train, x_valid, _, y_train, y_valid, _) = loadDatabase()\n",
        "\n",
        "x_train, y_train = expandDatabase(x_train, y_train)\n",
        "x_valid, y_valid = expandDatabase(x_valid, y_valid)\n",
        "y_train = convertToOnehot(y_train)\n",
        "y_valid = convertToOnehot(y_valid)\n",
        "\n",
        "hist = model.fit(x_train, y_train, batch_size=128, epochs=20,\n",
        "          validation_data=(x_valid, y_valid), callbacks=[checkpointer], \n",
        "          verbose=2, shuffle=True)"
      ],
      "execution_count": 109,
      "outputs": [
        {
          "output_type": "stream",
          "text": [
            "6000 exemplos de treino\n",
            "4000 exemplos de validação\n",
            "5055 exemplos de teste\n",
            "Pre-processamento concluído!\n",
            "Pre-processamento concluído!\n",
            "Train on 24000 samples, validate on 16000 samples\n",
            "Epoch 1/20\n",
            " - 3s - loss: 1.8143 - acc: 0.5479 - val_loss: 0.6336 - val_acc: 0.8563\n",
            "\n",
            "Epoch 00001: val_loss improved from inf to 0.63357, saving model to model.weights.best.hdf5\n",
            "Epoch 2/20\n",
            " - 1s - loss: 0.4504 - acc: 0.9017 - val_loss: 0.3919 - val_acc: 0.9133\n",
            "\n",
            "Epoch 00002: val_loss improved from 0.63357 to 0.39190, saving model to model.weights.best.hdf5\n",
            "Epoch 3/20\n",
            " - 1s - loss: 0.3423 - acc: 0.9278 - val_loss: 0.3169 - val_acc: 0.9317\n",
            "\n",
            "Epoch 00003: val_loss improved from 0.39190 to 0.31685, saving model to model.weights.best.hdf5\n",
            "Epoch 4/20\n",
            " - 1s - loss: 0.2967 - acc: 0.9380 - val_loss: 0.3064 - val_acc: 0.9329\n",
            "\n",
            "Epoch 00004: val_loss improved from 0.31685 to 0.30644, saving model to model.weights.best.hdf5\n",
            "Epoch 5/20\n",
            " - 1s - loss: 0.2651 - acc: 0.9467 - val_loss: 0.2849 - val_acc: 0.9409\n",
            "\n",
            "Epoch 00005: val_loss improved from 0.30644 to 0.28487, saving model to model.weights.best.hdf5\n",
            "Epoch 6/20\n",
            " - 1s - loss: 0.2397 - acc: 0.9530 - val_loss: 0.2647 - val_acc: 0.9426\n",
            "\n",
            "Epoch 00006: val_loss improved from 0.28487 to 0.26472, saving model to model.weights.best.hdf5\n",
            "Epoch 7/20\n",
            " - 1s - loss: 0.2208 - acc: 0.9579 - val_loss: 0.2607 - val_acc: 0.9468\n",
            "\n",
            "Epoch 00007: val_loss improved from 0.26472 to 0.26070, saving model to model.weights.best.hdf5\n",
            "Epoch 8/20\n",
            " - 1s - loss: 0.2056 - acc: 0.9608 - val_loss: 0.2240 - val_acc: 0.9547\n",
            "\n",
            "Epoch 00008: val_loss improved from 0.26070 to 0.22398, saving model to model.weights.best.hdf5\n",
            "Epoch 9/20\n",
            " - 1s - loss: 0.1915 - acc: 0.9638 - val_loss: 0.2655 - val_acc: 0.9447\n",
            "\n",
            "Epoch 00009: val_loss did not improve from 0.22398\n",
            "Epoch 10/20\n",
            " - 1s - loss: 0.1809 - acc: 0.9658 - val_loss: 0.2276 - val_acc: 0.9557\n",
            "\n",
            "Epoch 00010: val_loss did not improve from 0.22398\n",
            "Epoch 11/20\n",
            " - 1s - loss: 0.1712 - acc: 0.9684 - val_loss: 0.2169 - val_acc: 0.9579\n",
            "\n",
            "Epoch 00011: val_loss improved from 0.22398 to 0.21693, saving model to model.weights.best.hdf5\n",
            "Epoch 12/20\n",
            " - 1s - loss: 0.1615 - acc: 0.9692 - val_loss: 0.2080 - val_acc: 0.9594\n",
            "\n",
            "Epoch 00012: val_loss improved from 0.21693 to 0.20805, saving model to model.weights.best.hdf5\n",
            "Epoch 13/20\n",
            " - 1s - loss: 0.1547 - acc: 0.9715 - val_loss: 0.2169 - val_acc: 0.9581\n",
            "\n",
            "Epoch 00013: val_loss did not improve from 0.20805\n",
            "Epoch 14/20\n",
            " - 1s - loss: 0.1484 - acc: 0.9720 - val_loss: 0.2035 - val_acc: 0.9596\n",
            "\n",
            "Epoch 00014: val_loss improved from 0.20805 to 0.20354, saving model to model.weights.best.hdf5\n",
            "Epoch 15/20\n",
            " - 1s - loss: 0.1420 - acc: 0.9733 - val_loss: 0.1874 - val_acc: 0.9643\n",
            "\n",
            "Epoch 00015: val_loss improved from 0.20354 to 0.18738, saving model to model.weights.best.hdf5\n",
            "Epoch 16/20\n",
            " - 1s - loss: 0.1365 - acc: 0.9744 - val_loss: 0.1849 - val_acc: 0.9649\n",
            "\n",
            "Epoch 00016: val_loss improved from 0.18738 to 0.18485, saving model to model.weights.best.hdf5\n",
            "Epoch 17/20\n",
            " - 1s - loss: 0.1306 - acc: 0.9754 - val_loss: 0.2283 - val_acc: 0.9551\n",
            "\n",
            "Epoch 00017: val_loss did not improve from 0.18485\n",
            "Epoch 18/20\n",
            " - 1s - loss: 0.1264 - acc: 0.9761 - val_loss: 0.1979 - val_acc: 0.9620\n",
            "\n",
            "Epoch 00018: val_loss did not improve from 0.18485\n",
            "Epoch 19/20\n",
            " - 1s - loss: 0.1213 - acc: 0.9770 - val_loss: 0.1998 - val_acc: 0.9611\n",
            "\n",
            "Epoch 00019: val_loss did not improve from 0.18485\n",
            "Epoch 20/20\n",
            " - 1s - loss: 0.1171 - acc: 0.9775 - val_loss: 0.1812 - val_acc: 0.9663\n",
            "\n",
            "Epoch 00020: val_loss improved from 0.18485 to 0.18118, saving model to model.weights.best.hdf5\n"
          ],
          "name": "stdout"
        }
      ]
    },
    {
      "cell_type": "markdown",
      "metadata": {
        "id": "kVuD-3YRApuZ",
        "colab_type": "text"
      },
      "source": [
        "### 9. Carrege o modelo com a melhor acurácia no conjunto de validação"
      ]
    },
    {
      "cell_type": "code",
      "metadata": {
        "id": "2hRoZP7lAz4_",
        "colab_type": "code",
        "colab": {}
      },
      "source": [
        "# load the weights that yielded the best validation accuracy\n",
        "model.load_weights('model.weights.best.hdf5')"
      ],
      "execution_count": 0,
      "outputs": []
    },
    {
      "cell_type": "markdown",
      "metadata": {
        "id": "oGZZwhU2A08d",
        "colab_type": "text"
      },
      "source": [
        "### **10**. Calcule a acurácia no conjunto de teste"
      ]
    },
    {
      "cell_type": "code",
      "metadata": {
        "id": "pOu79m9dA-5D",
        "colab_type": "code",
        "outputId": "85b84b24-e1e3-41fe-830b-1bff765c0652",
        "colab": {
          "base_uri": "https://localhost:8080/",
          "height": 119
        }
      },
      "source": [
        "# evaluate and print test accuracy\n",
        "(_, _, x_test, _, _, y_test) = loadDatabase()\n",
        "length_test = len(x_test)\n",
        "x_test, y_test = expandDatabase(x_test, y_test)\n",
        "y_test = convertToOnehot(y_test)\n",
        "\n",
        "score = model.evaluate(x_test, y_test, verbose=0)\n",
        "print('\\n', 'Taxa de acerto:', score[1])"
      ],
      "execution_count": 111,
      "outputs": [
        {
          "output_type": "stream",
          "text": [
            "6000 exemplos de treino\n",
            "4000 exemplos de validação\n",
            "5055 exemplos de teste\n",
            "Pre-processamento concluído!\n",
            "\n",
            " Taxa de acerto: 0.9451533135391484\n"
          ],
          "name": "stdout"
        }
      ]
    },
    {
      "cell_type": "markdown",
      "metadata": {
        "id": "fF9iJa2Sh2QS",
        "colab_type": "text"
      },
      "source": [
        "### **11**.  Calculando acurácia"
      ]
    },
    {
      "cell_type": "code",
      "metadata": {
        "id": "Ui3dC_mIh7wv",
        "colab_type": "code",
        "colab": {
          "base_uri": "https://localhost:8080/",
          "height": 51
        },
        "outputId": "fc81abd3-2bc9-4d3a-fe6c-d6ac62d3cca7"
      },
      "source": [
        "predictions = model.predict(x_test, batch_size=4)\n",
        "result = predictions.argmax(axis=1)\n",
        "result_test = y_test.argmax(axis=1)\n",
        "\n",
        "totalHit = 0\n",
        "onlyOneMiss = 0\n",
        "\n",
        "for i in range(length_test):\n",
        "  hit = 0\n",
        "  for x in range(i*4, (i+1)*4):\n",
        "    if (result[x] == result_test[x]):\n",
        "      hit += 1\n",
        "  \n",
        "  if hit == 4:\n",
        "    totalHit += 1\n",
        "    onlyOneMiss += 1\n",
        "  elif hit == 3:\n",
        "    onlyOneMiss += 1\n",
        "  \n",
        "print('Taxa de acerto (4 caracteres):', totalHit / length_test)\n",
        "print('Taxa de acerto (3 caracteres):', onlyOneMiss / length_test)"
      ],
      "execution_count": 112,
      "outputs": [
        {
          "output_type": "stream",
          "text": [
            "Taxa de acerto (4 caracteres): 0.8405539070227498\n",
            "Taxa de acerto (3 caracteres): 0.9661721068249258\n"
          ],
          "name": "stdout"
        }
      ]
    },
    {
      "cell_type": "markdown",
      "metadata": {
        "id": "yb9V707SDIFc",
        "colab_type": "text"
      },
      "source": [
        "### **11**. Informações sobre acurácia no treinamento"
      ]
    },
    {
      "cell_type": "code",
      "metadata": {
        "id": "DkumElTUH622",
        "colab_type": "code",
        "outputId": "171b9cd0-10be-4622-c1b1-a7f488b2ab17",
        "colab": {
          "base_uri": "https://localhost:8080/",
          "height": 299
        }
      },
      "source": [
        "# # evaluate the network\n",
        "# print(\"[INFO] evaluating network...\")\n",
        "\n",
        "# # get predictions on the test set\n",
        "# predictions = model.predict(x_test, batch_size=128)\n",
        "\n",
        "# # define text labels (source: https://www.cs.toronto.edu/~kriz/cifar.html)\n",
        "# cifar10_labels = ['airplane', 'automobile', 'bird', 'cat', 'deer', 'dog', 'frog', 'horse', 'ship', 'truck']\n",
        "\n",
        "\n",
        "# print(classification_report(y_test.argmax(axis=1),\n",
        "# predictions.argmax(axis=1),\n",
        "# target_names=cifar10_labels))\n",
        "\n",
        "# plot the training loss and accuracy\n",
        "plt.style.use(\"ggplot\")\n",
        "plt.figure()\n",
        "plt.plot(np.arange(0, 20), hist.history[\"loss\"], label=\"train_loss\" )\n",
        "plt.plot(np.arange(0, 20), hist.history[\"val_loss\"], label=\"val_loss\")\n",
        "plt.plot(np.arange(0, 20), hist.history[\"acc\" ], label=\"train_acc\" )\n",
        "plt.plot(np.arange(0, 20), hist.history[\"val_acc\"], label=\"val_acc\")\n",
        "plt.title(\"Training Loss and Accuracy\")\n",
        "plt.xlabel(\"Epoch #\")\n",
        "plt.ylabel(\"Loss/Accuracy\")\n",
        "plt.legend()\n",
        "plt.show()"
      ],
      "execution_count": 113,
      "outputs": [
        {
          "output_type": "display_data",
          "data": {
            "image/png": "[encoded data removed]",
            "text/plain": [
              "<Figure size 432x288 with 1 Axes>"
            ]
          },
          "metadata": {
            "tags": []
          }
        }
      ]
    }
  ]
}